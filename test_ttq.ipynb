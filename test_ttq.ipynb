{
 "cells": [
  {
   "cell_type": "code",
   "execution_count": 35,
   "metadata": {},
   "outputs": [],
   "source": [
    "import tensorflow as tf\n",
    "import numpy as np\n",
    "\n",
    "def ttq_reference(w, thres_ratio):\n",
    "    G = tf.get_default_graph()\n",
    "    shape = w.get_shape()\n",
    "\n",
    "    thres = tf.reduce_max(tf.abs(w)) * thres_ratio\n",
    "\n",
    "    w_p = tf.get_variable('w_p', initializer=1.0)\n",
    "    w_n = tf.get_variable('w_n', initializer=1.0)\n",
    "    \n",
    "    ones = tf.constant(1.0, shape=shape)\n",
    "    \n",
    "    mask_p = tf.where(w > thres, ones * w_p, ones)\n",
    "    mask_np = tf.where(w < -thres, ones * w_n, mask_p)\n",
    "    mask_z = tf.cast((w > thres) | (w < -thres), tf.float32)\n",
    "\n",
    "    with G.gradient_override_map({'Sign': 'Identity', 'Mul': 'Add'}):\n",
    "        w_ter = tf.sign(w) * mask_z\n",
    "    return w_ter * mask_np"
   ]
  },
  {
   "cell_type": "code",
   "execution_count": 36,
   "metadata": {},
   "outputs": [
    {
     "name": "stdout",
     "output_type": "stream",
     "text": [
      "['w:0', 'w_p:0', 'w_n:0']\n",
      "[array([ 1.,  1.,  1.,  1.], dtype=float32), 2.0, -1.0]\n"
     ]
    }
   ],
   "source": [
    "tf.reset_default_graph()\n",
    "with tf.Session() as sess:\n",
    "    w = tf.get_variable('w', initializer=[1.0, 2.0, 3.0, -2.0])\n",
    "    \n",
    "    w_ter = ttq_reference(w, 0.5)\n",
    "\n",
    "    sess.run(tf.global_variables_initializer())\n",
    "    variables = tf.get_collection(tf.GraphKeys.TRAINABLE_VARIABLES)\n",
    "    \n",
    "    print([v.name for v in variables])\n",
    "    print(sess.run(tf.gradients(w_ter, variables, 1.0)))"
   ]
  },
  {
   "cell_type": "code",
   "execution_count": null,
   "metadata": {},
   "outputs": [],
   "source": []
  }
 ],
 "metadata": {
  "kernelspec": {
   "display_name": "Python 3",
   "language": "python",
   "name": "python3"
  },
  "language_info": {
   "codemirror_mode": {
    "name": "ipython",
    "version": 3
   },
   "file_extension": ".py",
   "mimetype": "text/x-python",
   "name": "python",
   "nbconvert_exporter": "python",
   "pygments_lexer": "ipython3",
   "version": "3.5.2"
  }
 },
 "nbformat": 4,
 "nbformat_minor": 2
}
